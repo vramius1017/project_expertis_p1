{
 "cells": [
  {
   "cell_type": "code",
   "execution_count": 1,
   "metadata": {},
   "outputs": [
    {
     "name": "stdout",
     "output_type": "stream",
     "text": [
      "entrer le nombre de branches : 5\n",
      "le nombre d'étoiles max sur la branche de base du sapin est :  9\n",
      "la taille du pied du sapin est :  2\n",
      "\n",
      "\n"
     ]
    }
   ],
   "source": [
    "# nombre de branche souhaités aprés fonction test \n",
    "nbb = input(\"entrer le nombre de branches : \")\n",
    "\n",
    "# calcul du nombres d'etoiles sur la base \n",
    "nbe = 2*int(nbb)-1\n",
    "print(\"le nombre d'étoiles max sur la branche de base du sapin est : \",nbe)\n",
    "\n",
    "# test pair- impair de nbb\n",
    "if int(nbb) % 2 == 0:\n",
    "    #print(\"le nb de branches est pair\")\n",
    "    tp = int(nbb)/2\n",
    "else : \n",
    "    #print(\"le nb de branches est impair\")\n",
    "    tp = (int(nbb)-1)/2\n",
    "\n",
    "print(\"la taille du pied du sapin est : \",int(tp))\n",
    "print(\"\\n\")\n",
    "\n",
    "\n"
   ]
  },
  {
   "cell_type": "code",
   "execution_count": 16,
   "metadata": {},
   "outputs": [
    {
     "name": "stdout",
     "output_type": "stream",
     "text": [
      "****"
     ]
    }
   ],
   "source": [
    "\n",
    "\n",
    "\n",
    "# fonction affichage horizontal d'une branche\n",
    "# input : long(int) output : affichage de long u caractére *\n",
    "i = 0\n",
    "long = 4\n",
    "while i < long:        # boucle pour long itération\n",
    "  i = i +1\n",
    "  print(\"*\",end='')# affichage horizontal"
   ]
  },
  {
   "cell_type": "code",
   "execution_count": 13,
   "metadata": {},
   "outputs": [
    {
     "name": "stdout",
     "output_type": "stream",
     "text": [
      "*\n",
      "      *"
     ]
    }
   ],
   "source": [
    "# fonction affichage d'un element du pied \n",
    "# input : nbe output : affichage * centré selon la branche de base\n",
    "i = 0\n",
    "nbe = 13\n",
    "st = (nbe - 1)/2\n",
    "print(\"*\")\n",
    "for i in range(0,int(st)):\n",
    "    print(\" \",end='')\n",
    "else :\n",
    "    print(\"*\",end='')"
   ]
  },
  {
   "cell_type": "code",
   "execution_count": 8,
   "metadata": {},
   "outputs": [
    {
     "name": "stdout",
     "output_type": "stream",
     "text": [
      "  *\n",
      " ***\n",
      "*****\n"
     ]
    }
   ],
   "source": [
    "# affichage du sapin pour 3 branches\n",
    "#  il faut incrementer les espaces et décrémenter les * en fonction du nombre d'étoiles de la derniére branche\n",
    "# le pied est centré en positionnant le caractére * à ((ne-1)/2)+1 avec ne nombre d'étoiles impaair de la derniére branche\n",
    "print(2*\" \"+\"*\")\n",
    "print(\" \" +3*\"*\")     \n",
    "print(5*\"*\",)\n",
    "#print(2*\" \"+\"*\")"
   ]
  },
  {
   "cell_type": "code",
   "execution_count": 52,
   "metadata": {},
   "outputs": [
    {
     "name": "stdout",
     "output_type": "stream",
     "text": [
      "nb superieur à 3 :5\n",
      "*\n",
      "***\n",
      "*****\n",
      "*******\n",
      "*********\n"
     ]
    }
   ],
   "source": [
    "a = input(\"nb superieur à 3 :\")\n",
    "\n",
    "for i in range(0,int(a)):\n",
    "   # for j in range(0,int(a))\n",
    "    print(int(2*i+1)*\"*\")\n",
    "       \n",
    "          \n",
    "    "
   ]
  },
  {
   "cell_type": "code",
   "execution_count": 60,
   "metadata": {},
   "outputs": [
    {
     "name": "stdout",
     "output_type": "stream",
     "text": [
      "nb superieur à 3 :5\n",
      " *\n",
      "  *\n",
      "   *\n",
      "    *\n",
      "     *\n",
      "      *\n",
      "       *\n",
      "        *\n"
     ]
    }
   ],
   "source": [
    "a = input(\"nb superieur à 3 :\")\n",
    "j = int((int(a) + 1)/2)\n",
    "for j in range(1,b):\n",
    "    print(j*\" \"+\"*\")\n",
    "j=j-1"
   ]
  },
  {
   "cell_type": "code",
   "execution_count": 101,
   "metadata": {},
   "outputs": [
    {
     "name": "stdout",
     "output_type": "stream",
     "text": [
      " ordre du sapin: 9\n",
      "        *\n",
      "       ***\n",
      "      *****\n",
      "     *******\n",
      "    *********\n",
      "   ***********\n",
      "  *************\n",
      " ***************\n",
      "*****************\n",
      "        #\n",
      "        #\n",
      "        #\n",
      "        #\n",
      "       ___\n"
     ]
    }
   ],
   "source": [
    "nbb=int(input(\" ordre du sapin: \"))\n",
    "\n",
    "if int(nbb) % 2 == 0:\n",
    "    #print(\"le nb de branches est pair\")\n",
    "    tp = int(nbb)/2\n",
    "else : \n",
    "    #print(\"le nb de branches est impair\")\n",
    "    tp = (int(nbb)-1)/2\n",
    "for i in range(nbb):\n",
    "    # on affiche un nombre impair d'etoile croinssant 2*i+1\n",
    "    # et un nombre pair d'espace décroissant  soit n-1-i\n",
    "    print(' '*(nbb-1-i)+'*'*(1+2*i))\n",
    "for k in range(int(tp)):\n",
    "    print(' '*(nbb-1)+'#')\n",
    "print(' '*(nbb-2)+3*\"_\")         "
   ]
  }
 ],
 "metadata": {
  "kernelspec": {
   "display_name": "Python 3",
   "language": "python",
   "name": "python3"
  },
  "language_info": {
   "codemirror_mode": {
    "name": "ipython",
    "version": 3
   },
   "file_extension": ".py",
   "mimetype": "text/x-python",
   "name": "python",
   "nbconvert_exporter": "python",
   "pygments_lexer": "ipython3",
   "version": "3.7.4"
  }
 },
 "nbformat": 4,
 "nbformat_minor": 2
}
