{
 "cells": [
  {
   "cell_type": "code",
   "execution_count": 1,
   "metadata": {},
   "outputs": [
    {
     "name": "stdout",
     "output_type": "stream",
     "text": [
      " entrer une phrase : je suis un jedi\n",
      "  jedi    un    suis    je  \n"
     ]
    }
   ],
   "source": [
    "#v = \"don't forget the tests\"\n",
    "s = \"don't forget the unit tests\"\n",
    "\n",
    "\n",
    "def CleanChain(x):\n",
    "    x = str(x)\n",
    "    x = x.replace(\"[\",\" \")\n",
    "    x = x.replace(\"]\",\" \")\n",
    "    x = x.replace(\"'\",\" \")\n",
    "    x = x.replace(\",\",\" \")\n",
    "    x = x.replace('\"',\" \")\n",
    "    return x\n",
    "\n",
    "# input de la chaine de caractéres v\n",
    "v = input (\" entrer une phrase : \")\n",
    "#print(type(v))\n",
    "\n",
    "#affichage du type des objets input\n",
    "#print(type(s))\n",
    "#print(\"  \")\n",
    "#print(type(v))\n",
    "#print(\"  \")\n",
    "\n",
    "#affichages des objets listes \n",
    "#print(\"  \")\n",
    "l = s.split()\n",
    "#print(l)\n",
    "#print(type(l))\n",
    "#print(\"  \")\n",
    "p = v.split()\n",
    "#print(p)\n",
    "#print(type(p))\n",
    "\n",
    "# listes inversés\n",
    "#print(\"  \")\n",
    "p.reverse()\n",
    "#print(p)\n",
    "#print(\"  \")\n",
    "\n",
    "z = CleanChain(p)\n",
    "print(z)"
   ]
  },
  {
   "cell_type": "code",
   "execution_count": null,
   "metadata": {},
   "outputs": [],
   "source": []
  }
 ],
 "metadata": {
  "kernelspec": {
   "display_name": "Python 3",
   "language": "python",
   "name": "python3"
  },
  "language_info": {
   "codemirror_mode": {
    "name": "ipython",
    "version": 3
   },
   "file_extension": ".py",
   "mimetype": "text/x-python",
   "name": "python",
   "nbconvert_exporter": "python",
   "pygments_lexer": "ipython3",
   "version": "3.7.4"
  }
 },
 "nbformat": 4,
 "nbformat_minor": 2
}
