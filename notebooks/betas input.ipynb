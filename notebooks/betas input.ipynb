{
 "cells": [
  {
   "cell_type": "code",
   "execution_count": 36,
   "metadata": {},
   "outputs": [
    {
     "name": "stdout",
     "output_type": "stream",
     "text": [
      " entrer le nombre de branches de votre sapin 2\n",
      " votre sapin doit avoir au moins 3 branches !!!\n",
      " entrer le nombre de branches de votre sapin 3\n",
      "le nombre de branches demandées est :  3\n"
     ]
    }
   ],
   "source": [
    "# fonction test \n",
    "# input : nombre de branches    output : nbb(int) nombre de branches superieur ou égal à trois\n",
    "try:\n",
    "    nbb = input(\" entrer le nombre de branches de votre sapin \")\n",
    "    # condition de restriction du nombre de brache\n",
    "    if nbb < 3:\n",
    "        raise Exception\n",
    "except Exception as BranchNumberException :\n",
    "    print(\" votre sapin doit avoir au moins 3 branches !!!\")\n",
    "    nbb = input(\" entrer le nombre de branches de votre sapin \")\n",
    "    \n",
    "print(\"le nombre de branches demandées est : \",nbb)\n",
    "  "
   ]
  },
  {
   "cell_type": "code",
   "execution_count": 38,
   "metadata": {},
   "outputs": [
    {
     "name": "stdout",
     "output_type": "stream",
     "text": [
      "entrer le nombre de branches : 17\n",
      "le nombre d'étoiles max sur la branche de base du sapin est :  33\n",
      "nbb est impair\n",
      "la taille du pied du sapin est :  8\n"
     ]
    }
   ],
   "source": [
    "# nombre de branche souhaités aprés fonction test \n",
    "nbb = input(\"entrer le nombre de branches : \")\n",
    "\n",
    "# calcul du nombres d'etoiles sur la base \n",
    "nbe = int(nbb) + (int(nbb) - 1)\n",
    "print(\"le nombre d'étoiles max sur la branche de base du sapin est : \",nbe)\n",
    "\n",
    "# test pair- impair de nbb\n",
    "if int(nbb) % 2 == 0:\n",
    "    print(\"nbb est pair\")\n",
    "    tp = int(nbb)/2\n",
    "else : \n",
    "    print(\"nbb est impair\")\n",
    "    tp = (int(nbb)-1)/2\n",
    "\n",
    "print(\"la taille du pied du sapin est : \",int(tp))"
   ]
  },
  {
   "cell_type": "code",
   "execution_count": 39,
   "metadata": {},
   "outputs": [
    {
     "name": "stdout",
     "output_type": "stream",
     "text": [
      "****"
     ]
    }
   ],
   "source": [
    "# fonction affichage horizontal d'une branche\n",
    "# input : long(int) output : affichage de long u caractére *\n",
    "i = 0\n",
    "long = 4\n",
    "while i < long:        # boucle pour long itération\n",
    "  i = i +1\n",
    "  print(\"*\",end='')# affichage horizontal"
   ]
  },
  {
   "cell_type": "code",
   "execution_count": 34,
   "metadata": {},
   "outputs": [
    {
     "name": "stdout",
     "output_type": "stream",
     "text": [
      "*\n",
      "      *"
     ]
    }
   ],
   "source": [
    "# fonction affichage d'un element du pied \n",
    "# input : nbe output : affichage * centré selon la branche de base\n",
    "i = 0\n",
    "nbe = 13\n",
    "st = (nbe - 1)/2\n",
    "print(\"*\")\n",
    "for i in range(0,int(st)):\n",
    "    print(\" \",end='')\n",
    "else :\n",
    "    print(\"*\",end='')"
   ]
  },
  {
   "cell_type": "code",
   "execution_count": 40,
   "metadata": {},
   "outputs": [
    {
     "name": "stdout",
     "output_type": "stream",
     "text": [
      "*\n",
      " *"
     ]
    }
   ],
   "source": [
    "print(\"*\")\n",
    "print(\" \",end='')\n",
    "print(\"*\",end='')"
   ]
  },
  {
   "cell_type": "code",
   "execution_count": null,
   "metadata": {},
   "outputs": [],
   "source": []
  }
 ],
 "metadata": {
  "kernelspec": {
   "display_name": "Python 3",
   "language": "python",
   "name": "python3"
  },
  "language_info": {
   "codemirror_mode": {
    "name": "ipython",
    "version": 3
   },
   "file_extension": ".py",
   "mimetype": "text/x-python",
   "name": "python",
   "nbconvert_exporter": "python",
   "pygments_lexer": "ipython3",
   "version": "3.7.5"
  }
 },
 "nbformat": 4,
 "nbformat_minor": 2
}
