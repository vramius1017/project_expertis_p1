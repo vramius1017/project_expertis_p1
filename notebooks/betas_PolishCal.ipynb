{
 "cells": [
  {
   "cell_type": "code",
   "execution_count": 1,
   "metadata": {},
   "outputs": [
    {
     "name": "stdout",
     "output_type": "stream",
     "text": [
      "entrer un nombre: 5\n",
      "entrer un autre nombre: 3\n",
      "entrer l'opération à effectuer : +\n",
      "le résultat de l'opération + de 5 par 3 est : \n"
     ]
    }
   ],
   "source": [
    "x = input(\"entrer un nombre: \")\n",
    "y = input(\"entrer un autre nombre: \")\n",
    "z = input(\"entrer l'opération à effectuer : \")\n",
    "print(f'le résultat de l\\'opération de {x} par {y} est : ')\n",
    "   "
   ]
  },
  {
   "cell_type": "code",
   "execution_count": 5,
   "metadata": {},
   "outputs": [
    {
     "name": "stdout",
     "output_type": "stream",
     "text": [
      "entrer un nombre: 5\n",
      "entrer un autre nombre: 3\n",
      "le résultat de l'addition de 5 par 3 est : 8\n"
     ]
    }
   ],
   "source": [
    "x = input(\"entrer un nombre: \")\n",
    "y = input(\"entrer un autre nombre: \")\n",
    "z = int(x) + int(y)\n",
    "print(f'le résultat de l\\'addition de {x} par {y} est : {z}')"
   ]
  },
  {
   "cell_type": "code",
   "execution_count": 19,
   "metadata": {},
   "outputs": [
    {
     "name": "stdout",
     "output_type": "stream",
     "text": [
      "entrer un nombre: 5\n",
      "entrer un autre nombre: 3\n",
      " Choisir une de ces opération : + , - , * , / \n",
      "entrer l'opération à effectuer : *\n",
      "le résultat de l'opération : 5 , 3, * est : 15\n"
     ]
    }
   ],
   "source": [
    "# -*- coding: utf-8 -*-\n",
    "\n",
    "x = input(\"entrer un nombre: \")\n",
    "y = input(\"entrer un autre nombre: \")\n",
    "print(\" Choisir une de ces opération : + , - , * , / \")\n",
    "k = input(\"entrer l'opération à effectuer : \")\n",
    "\n",
    "if  k == \"+\" : \n",
    "    z = int(x) + int(y)\n",
    "        \n",
    "elif k == \"-\":\n",
    "    z = int(x) - int(y)\n",
    "\n",
    "elif k == \"*\":\n",
    "    z = int(x) * int(y)\n",
    "else :\n",
    "    k == \"/\"\n",
    "    try:\n",
    "        z = int(x) / int(y)\n",
    "    except ZeroDivisionError:\n",
    "        print(\"Division par zéro impossible\")\n",
    "        y = input(\"entrer un autre nombre: \")\n",
    "        \n",
    "\n",
    "print(f'le résultat de l\\'opération : {x} , {y}, {k} est : {z}')\n",
    "   "
   ]
  },
  {
   "cell_type": "code",
   "execution_count": null,
   "metadata": {},
   "outputs": [],
   "source": []
  }
 ],
 "metadata": {
  "kernelspec": {
   "display_name": "Python 3",
   "language": "python",
   "name": "python3"
  },
  "language_info": {
   "codemirror_mode": {
    "name": "ipython",
    "version": 3
   },
   "file_extension": ".py",
   "mimetype": "text/x-python",
   "name": "python",
   "nbconvert_exporter": "python",
   "pygments_lexer": "ipython3",
   "version": "3.7.4"
  }
 },
 "nbformat": 4,
 "nbformat_minor": 2
}
