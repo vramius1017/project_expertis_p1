{
 "cells": [
  {
   "cell_type": "code",
   "execution_count": 2,
   "metadata": {},
   "outputs": [
    {
     "name": "stdout",
     "output_type": "stream",
     "text": [
      " ordre du sapin: 10\n",
      "         *\n",
      "        ***\n",
      "       *****\n",
      "      *******\n",
      "     *********\n",
      "    ***********\n",
      "   *************\n",
      "  ***************\n",
      " *****************\n",
      "*******************\n",
      "         #\n",
      "         #\n",
      "         #\n",
      "         #\n",
      "         #\n",
      "        ___\n"
     ]
    }
   ],
   "source": [
    "# -*- coding: utf-8 -*-\n",
    "\"\"\"\n",
    "Created on Fri Dec 13 12:03:46 2019\n",
    "\n",
    "@author: Sacha TORRES\n",
    "\"\"\"\n",
    "\n",
    "# entrer le nombre de branches \n",
    "\n",
    "nbb=int(input(\" ordre du sapin: \"))\n",
    "\n",
    "# test de la parité du nombre de branches\n",
    "# calcul de tp: position du milieu de la branche pour le positionement du tronc\n",
    "\n",
    "if int(nbb) % 2 == 0:     # test : print(\"le nb de branches est pair\")\n",
    "    tp = int(nbb)/2\n",
    "else : \n",
    "                          # test : print(\"le nb de branches est impair\")\n",
    "    tp = (int(nbb)-1)/2\n",
    " # on affiche un nombre impair d'etoile croinssant 2*i+1\n",
    "    # et un nombre pair d'espace décroissant  soit n-1-i\n",
    "\n",
    "for i in range(nbb):\n",
    "    print(' '*(nbb-1-i)+'*'*(1+2*i))\n",
    "for k in range(int(tp)):\n",
    "    print(' '*(nbb-1)+'#')\n",
    "\n",
    "# affichage du support du pied du sapin\n",
    "# même centrage que le pied décalé de un pour afficher trois underscore centrés    \n",
    "print(' '*(nbb-2)+3*\"_\")   "
   ]
  },
  {
   "cell_type": "code",
   "execution_count": null,
   "metadata": {},
   "outputs": [],
   "source": []
  }
 ],
 "metadata": {
  "kernelspec": {
   "display_name": "Python 3",
   "language": "python",
   "name": "python3"
  },
  "language_info": {
   "codemirror_mode": {
    "name": "ipython",
    "version": 3
   },
   "file_extension": ".py",
   "mimetype": "text/x-python",
   "name": "python",
   "nbconvert_exporter": "python",
   "pygments_lexer": "ipython3",
   "version": "3.7.4"
  }
 },
 "nbformat": 4,
 "nbformat_minor": 2
}
