{
 "cells": [
  {
   "cell_type": "code",
   "execution_count": null,
   "metadata": {},
   "outputs": [],
   "source": [
    "nbb = input(\" entrer le nombrede branches de votre sapin \")\n",
    "if nbb < 3 :\n",
    "   raise Exception :\n",
    "         print(\" votre sapin doit avoir au moins 3 branches !!!\")"
   ]
  },
  {
   "cell_type": "code",
   "execution_count": null,
   "metadata": {},
   "outputs": [],
   "source": [
    "# calcul du nombres d'etoiles sur la base \n",
    "nbe = nbb + (nbb - 1)\n",
    "\n",
    "# calcul de la taille du pied du sapin\n",
    "tp = nbb - 2\n",
    "\n"
   ]
  },
  {
   "cell_type": "code",
   "execution_count": null,
   "metadata": {},
   "outputs": [],
   "source": [
    "# affichage horizontal\n",
    "i = 0\n",
    "while i < 4:\n",
    "  i = i +1\n",
    "  print(\"*\",end='')"
   ]
  },
  {
   "cell_type": "code",
   "execution_count": null,
   "metadata": {},
   "outputs": [],
   "source": [
    "# affichage vertical centrée du pied\n",
    "while j <= tp :\n",
    "    j = j + 1\n",
    "    for i in range(1,(nbe - 1)/2):\n",
    "        print(\" \")\n",
    "    print(\"*\")     \n",
    " print(\" \")\n",
    " print(\" Joyeux Noel !!! \")"
   ]
  }
 ],
 "metadata": {
  "kernelspec": {
   "display_name": "Python 3",
   "language": "python",
   "name": "python3"
  }
 },
 "nbformat": 4,
 "nbformat_minor": 2
}
